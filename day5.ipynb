{
 "cells": [
  {
   "cell_type": "code",
   "execution_count": 9,
   "metadata": {},
   "outputs": [],
   "source": [
    "# Import\n",
    "\n",
    "path = \"day5input.txt\"\n",
    "file = open(path, 'r')\n",
    "data = file.readlines()\n",
    "file.close()"
   ]
  },
  {
   "cell_type": "markdown",
   "metadata": {},
   "source": [
    "Each line within a map contains three numbers: the destination range start, the source range start, and the range length.\n",
    "\n",
    "What is the lowest location number that corresponds to any of the initial seed numbers?"
   ]
  },
  {
   "cell_type": "code",
   "execution_count": 10,
   "metadata": {},
   "outputs": [],
   "source": [
    "class Mapping:\n",
    "    def __init__(self, line: str) -> None:\n",
    "        points = [int(x) for x in line.split()]\n",
    "        self.source_start = points[1]\n",
    "        self.source_end = self.source_start + points[2] - 1\n",
    "        self.shift_val = points[0] - self.source_start\n",
    "        # because the mapping is only one way for this problem, the range of the destination isn't needed\n",
    "    \n",
    "    def val_in_source_range(self, val: int) -> bool:\n",
    "        return val >= self.source_start and val <= self.source_end\n",
    "    \n",
    "    def source_to_dest(self, val: int) -> int:\n",
    "        #print(val, self.shift_val, val + self.shift_val)\n",
    "        return val + self.shift_val"
   ]
  },
  {
   "cell_type": "code",
   "execution_count": 11,
   "metadata": {},
   "outputs": [],
   "source": [
    "seed_to_soil_maps = [Mapping(line) for line in data[3:26]]\n",
    "soil_to_fert_maps = [Mapping(line) for line in data[28:59]]\n",
    "fert_to_wate_maps = [Mapping(line) for line in data[61:87]]\n",
    "wate_to_ligh_maps = [Mapping(line) for line in data[89:129]]\n",
    "ligh_to_temp_maps = [Mapping(line) for line in data[131:173]]\n",
    "temp_to_humi_maps = [Mapping(line) for line in data[175:210]]\n",
    "humid_to_loca_maps = [Mapping(line) for line in data[212:249]]\n",
    "\n",
    "def map_value(mapping: Mapping, source: int) -> int:\n",
    "    for map in mapping:\n",
    "        if (map.val_in_source_range(source)):\n",
    "            #print(map.source_start, source, map.source_end)\n",
    "            return map.source_to_dest(source)\n",
    "    return source\n",
    "\n",
    "def traverse_mappings(seed: int) -> int:\n",
    "    return map_value(humid_to_loca_maps, map_value(temp_to_humi_maps, map_value(ligh_to_temp_maps, map_value(wate_to_ligh_maps, map_value(fert_to_wate_maps, map_value(soil_to_fert_maps, map_value(seed_to_soil_maps, seed)))))))\n",
    "    \n"
   ]
  },
  {
   "cell_type": "code",
   "execution_count": 12,
   "metadata": {},
   "outputs": [
    {
     "name": "stdout",
     "output_type": "stream",
     "text": [
      "265018614\n"
     ]
    }
   ],
   "source": [
    "# part 1\n",
    "seeds = [int(x) for x in data[0][7:].split()]\n",
    "\n",
    "min_loc = 339289068\n",
    "\n",
    "for seed in seeds:\n",
    "    location = traverse_mappings(seed)\n",
    "    min_loc = min(min_loc, location)\n",
    "\n",
    "\n",
    "print(min_loc)"
   ]
  },
  {
   "cell_type": "code",
   "execution_count": null,
   "metadata": {},
   "outputs": [],
   "source": [
    "# part 2\n",
    "\n",
    "seed_line = [int(x) for x in data[0][7:].split()]\n",
    "min_loc = 339289068\n",
    "\n",
    "print(\"3760349291\", traverse_mappings(3760349291))\n",
    "for i in range (0, len(seed_line), 2):\n",
    "    for j in range (seed_line[i], seed_line[i] + seed_line[i+1] - 1, 10):\n",
    "        loc = traverse_mappings(j)\n",
    "        if (loc < min_loc):\n",
    "            min_loc = loc\n",
    "            print(min_loc, \"seed\", j)\n",
    "\n",
    "        #min_loc = min(min_loc, traverse_mappings(j))\n",
    "\n",
    "\n",
    "print(min_loc)"
   ]
  }
 ],
 "metadata": {
  "kernelspec": {
   "display_name": "Python 3",
   "language": "python",
   "name": "python3"
  },
  "language_info": {
   "codemirror_mode": {
    "name": "ipython",
    "version": 3
   },
   "file_extension": ".py",
   "mimetype": "text/x-python",
   "name": "python",
   "nbconvert_exporter": "python",
   "pygments_lexer": "ipython3",
   "version": "3.12.4"
  }
 },
 "nbformat": 4,
 "nbformat_minor": 2
}
