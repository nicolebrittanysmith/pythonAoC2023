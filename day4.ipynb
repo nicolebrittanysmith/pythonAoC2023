{
 "cells": [
  {
   "cell_type": "code",
   "execution_count": null,
   "metadata": {},
   "outputs": [],
   "source": [
    "# Import\n",
    "\n",
    "path = \"day4input.txt\"\n",
    "file = open(path, 'r')\n",
    "data = file.readlines()\n",
    "file.close()"
   ]
  },
  {
   "cell_type": "markdown",
   "metadata": {},
   "source": [
    "Each card has two lists of numbers separated by a vertical bar (|): a list of winning numbers and then a list of numbers you have.\n",
    "The first match makes the card worth one point and each match after the first doubles the point value of that card. (Points = 2^(matches - 1))\n",
    "How many points are they worth in total?"
   ]
  },
  {
   "cell_type": "code",
   "execution_count": null,
   "metadata": {},
   "outputs": [],
   "source": [
    "class Card:\n",
    "    def __init__(self, line) -> None:\n",
    "        self.card_num = int(line[5:8])\n",
    "        self.winners = [int(x) for x in line[10:39].split()]\n",
    "        self.draws = [int(x) for x in line[42:116].split()]\n",
    "\n",
    "def count_matches(card: Card) -> int:\n",
    "    return len(set(card.draws).intersection(card.winners))\n",
    "\n",
    "def card_points(matches: int) -> int:\n",
    "    if(matches == 0):\n",
    "        return 0\n",
    "    else:\n",
    "        return pow(2, matches - 1)"
   ]
  },
  {
   "cell_type": "code",
   "execution_count": null,
   "metadata": {},
   "outputs": [],
   "source": [
    "cards = []\n",
    "\n",
    "for line in data:\n",
    "    cards.append(Card(line))"
   ]
  },
  {
   "cell_type": "code",
   "execution_count": null,
   "metadata": {},
   "outputs": [],
   "source": [
    "# part 1\n",
    "point_sum = 0\n",
    "\n",
    "for card in cards:\n",
    "    point_sum += card_points(count_matches(card))\n",
    "\n",
    "print(point_sum)"
   ]
  },
  {
   "cell_type": "code",
   "execution_count": null,
   "metadata": {},
   "outputs": [],
   "source": [
    "# part 2\n",
    "copies = [1] * (len(data) + 1)\n",
    "copies[0] = 0 # skipping 0 index because I can\n",
    "\n",
    "print(copies)\n",
    "for card in cards:\n",
    "    matches = count_matches(card)\n",
    "    print(\"Card\", card.card_num, \"Matches\", matches, \"Copies\", copies[card.card_num])\n",
    "    for i in range(card.card_num + 1, min(card.card_num + 1 + matches, len(copies))):\n",
    "        copies[i] = copies[i] + copies[card.card_num]\n",
    "    print(copies)\n",
    "\n",
    "print(sum(copies))"
   ]
  }
 ],
 "metadata": {
  "kernelspec": {
   "display_name": "base",
   "language": "python",
   "name": "python3"
  },
  "language_info": {
   "name": "python",
   "version": "3.12.4"
  }
 },
 "nbformat": 4,
 "nbformat_minor": 2
}
