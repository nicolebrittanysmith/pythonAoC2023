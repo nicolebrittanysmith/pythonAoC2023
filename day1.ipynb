{
 "cells": [
  {
   "cell_type": "code",
   "execution_count": 1,
   "metadata": {},
   "outputs": [],
   "source": [
    "# Import\n",
    "\n",
    "path = \"day1input.txt\"\n",
    "file = open(path, 'r')\n",
    "data = file.readlines()\n",
    "file.close()"
   ]
  },
  {
   "cell_type": "code",
   "execution_count": 2,
   "metadata": {},
   "outputs": [
    {
     "name": "stdout",
     "output_type": "stream",
     "text": [
      "55712\n"
     ]
    }
   ],
   "source": [
    "# Part 1\n",
    "\n",
    "sum = 0\n",
    "\n",
    "for line in data:\n",
    "    line_digits = [c for c in line if c.isdigit()]\n",
    "    sum += int(line_digits[0] + line_digits[len(line_digits)-1])\n",
    "\n",
    "print(sum)"
   ]
  },
  {
   "cell_type": "code",
   "execution_count": 3,
   "metadata": {},
   "outputs": [],
   "source": [
    "def parse_digit(d : str) -> str:\n",
    "    match d:\n",
    "        case \"zer\" | \"0\":\n",
    "            return \"0\"\n",
    "        case \"on\" | \"1\":\n",
    "            return \"1\"\n",
    "        case \"tw\" | \"2\":\n",
    "            return \"2\"\n",
    "        case \"thre\" | \"3\":\n",
    "            return \"3\"\n",
    "        case \"fou\" | \"4\":\n",
    "            return \"4\"\n",
    "        case \"fiv\" | \"5\":\n",
    "            return \"5\"\n",
    "        case \"si\" | \"6\":\n",
    "            return \"6\"\n",
    "        case \"seve\" | \"7\":\n",
    "            return \"7\"\n",
    "        case \"eigh\" | \"8\":\n",
    "            return \"8\"\n",
    "        case \"nin\" | \"9\":\n",
    "            return \"9\""
   ]
  },
  {
   "cell_type": "code",
   "execution_count": 5,
   "metadata": {},
   "outputs": [
    {
     "name": "stdout",
     "output_type": "stream",
     "text": [
      "55413\n"
     ]
    }
   ],
   "source": [
    "# Part 2\n",
    "import re\n",
    "\n",
    "p = r\"(\\d)|(zer(?=o)|on(?=e)|tw(?=o)|thre(?=e)|fou(?=r)|fiv(?=e)|si(?=x)|seve(?=n)|eigh(?=t)|nin(?=e))\"\n",
    "ex = re.compile(p)\n",
    "sum = 0\n",
    "\n",
    "for line in data:\n",
    "    line_digits = ex.findall(line)\n",
    "    sum += int(parse_digit(line_digits[0][0] or line_digits[0][1]) + parse_digit(line_digits[len(line_digits)-1][0] or line_digits[len(line_digits)-1][1]))\n",
    "\n",
    "print(sum)\n"
   ]
  }
 ],
 "metadata": {
  "kernelspec": {
   "display_name": "base",
   "language": "python",
   "name": "python3"
  },
  "language_info": {
   "codemirror_mode": {
    "name": "ipython",
    "version": 3
   },
   "file_extension": ".py",
   "mimetype": "text/x-python",
   "name": "python",
   "nbconvert_exporter": "python",
   "pygments_lexer": "ipython3",
   "version": "3.12.4"
  }
 },
 "nbformat": 4,
 "nbformat_minor": 2
}
