{
 "cells": [
  {
   "cell_type": "code",
   "execution_count": 5,
   "metadata": {},
   "outputs": [
    {
     "name": "stdout",
     "output_type": "stream",
     "text": [
      "['Time:        62     64     91     90\\n', 'Distance:   553   1010   1473   1074']\n"
     ]
    }
   ],
   "source": [
    "# Import\n",
    "\n",
    "path = \"day6input.txt\"\n",
    "file = open(path, 'r')\n",
    "data = file.readlines()\n",
    "file.close()\n",
    "\n",
    "print(data)"
   ]
  },
  {
   "cell_type": "markdown",
   "metadata": {},
   "source": [
    "For each whole millisecond you spend at the beginning of the race holding down the button, the boat's speed increases by one millimeter per millisecond.\n",
    "To see how much margin of error you have, determine the number of ways you can beat the record in each race.\n",
    "What do you get if you multiply these numbers together?"
   ]
  },
  {
   "cell_type": "code",
   "execution_count": 8,
   "metadata": {},
   "outputs": [],
   "source": [
    "race_times = [int(x) for x in data[0].split(\":\")[1].split()]\n",
    "race_distances = [int(x) for x in data[1].split(\":\")[1].split()]\n",
    "\n",
    "def distance_traveled(race_time: int, hold_time: int) -> int:\n",
    "    return hold_time * (race_time - hold_time)"
   ]
  },
  {
   "cell_type": "code",
   "execution_count": null,
   "metadata": {},
   "outputs": [],
   "source": [
    "# Part 1\n",
    "\n",
    "import math\n",
    "\n",
    "ways_product = 1\n",
    "\n",
    "for i in range(0, len(race_times), 1):\n",
    "    floor_speed = math.floor(race_distances[i]/race_times[i])  # it must be moving faster than this speed\n",
    "    count_ways = 0\n",
    "    for j in range(floor_speed, race_times[i] - 1, 1):\n",
    "        distance_t = distance_traveled(race_times[i], j)\n",
    "        if(distance_traveled(race_times[i], j) > race_distances[i]):\n",
    "            count_ways += 1\n",
    "    ways_product = ways_product * count_ways\n",
    "print(ways_product)"
   ]
  },
  {
   "cell_type": "markdown",
   "metadata": {},
   "source": [
    "Part 2: Actually, the input kerning is bad. There's only one race.\n",
    "Find the number of ways to win this one race\n",
    "\n",
    "(Because there are so many ways, it'll be much faster to find the max and min, and count the number of ways in between)"
   ]
  },
  {
   "cell_type": "code",
   "execution_count": 29,
   "metadata": {},
   "outputs": [
    {
     "name": "stdout",
     "output_type": "stream",
     "text": [
      "shortest 10633311\n",
      "longest 52015879\n",
      "41382569\n"
     ]
    }
   ],
   "source": [
    "race_time = int(data[0].split(\":\")[1].strip().replace(\" \", \"\"))\n",
    "race_distance = int(data[1].split(\":\")[1].strip().replace(\" \", \"\"))\n",
    "\n",
    "floor_speed = math.floor(race_distance/race_time)\n",
    "\n",
    "for i in range(floor_speed, race_distance, 1):\n",
    "    if(distance_traveled(race_time, i) > race_distance):\n",
    "        shortest_winning_press = i\n",
    "        print(\"shortest\", shortest_winning_press)\n",
    "        break\n",
    "\n",
    "for i in range(race_time, floor_speed, -1):\n",
    "    if(distance_traveled(race_time, i) > race_distance):\n",
    "            longest_winning_press = i\n",
    "            print(\"longest\", longest_winning_press)\n",
    "            break\n",
    "\n",
    "print(longest_winning_press - shortest_winning_press + 1)\n",
    "\n"
   ]
  }
 ],
 "metadata": {
  "kernelspec": {
   "display_name": "base",
   "language": "python",
   "name": "python3"
  },
  "language_info": {
   "codemirror_mode": {
    "name": "ipython",
    "version": 3
   },
   "file_extension": ".py",
   "mimetype": "text/x-python",
   "name": "python",
   "nbconvert_exporter": "python",
   "pygments_lexer": "ipython3",
   "version": "3.12.4"
  }
 },
 "nbformat": 4,
 "nbformat_minor": 2
}
