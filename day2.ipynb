{
 "cells": [
  {
   "cell_type": "markdown",
   "metadata": {},
   "source": [
    "Determine which games would have been possible if the bag had been loaded with only 12 red cubes, 13 green cubes, and 14 blue cubes. What is the sum of the IDs of those games?"
   ]
  },
  {
   "cell_type": "code",
   "execution_count": 1,
   "metadata": {},
   "outputs": [],
   "source": [
    "# Import\n",
    "\n",
    "path = \"day2input.txt\"\n",
    "file = open(path, 'r')\n",
    "data = file.readlines()\n",
    "file.close()"
   ]
  },
  {
   "cell_type": "code",
   "execution_count": 24,
   "metadata": {},
   "outputs": [],
   "source": [
    "# Parse lines into Games\n",
    "\n",
    "import re\n",
    "\n",
    "class Game:\n",
    "    game_id = 0\n",
    "    reds_max = 0\n",
    "    greens_max = 0\n",
    "    blues_max = 0\n",
    "\n",
    "    def __init__(self, line: str) -> None:\n",
    "        steps = line.split(\":\")\n",
    "        self.game_id = [int(s) for s in steps[0].split() if s.isdigit()][0]\n",
    "        for round in steps[1].split(\";\"):\n",
    "            for color in round.split(\",\"):\n",
    "                cl = [c for c in color if c.isalpha()][0]       #cl = color letter (r for red)\n",
    "                count = int([int(s) for s in color.split() if s.isdigit()][0])\n",
    "                match cl:\n",
    "                    case \"r\":\n",
    "                        self.reds_max = max(self.reds_max, count)\n",
    "                    case \"g\":\n",
    "                        self.greens_max = max(self.greens_max, count)\n",
    "                    case \"b\":\n",
    "                        self.blues_max = max(self.blues_max, count)\n",
    "    \n",
    "    def IsValid(self, reds_limit: int, greens_limit: int, blues_limit: int) -> bool:\n",
    "        return self.reds_max <= reds_limit and self.greens_max <= greens_limit and self.blues_max <= blues_limit\n",
    "\n",
    "games = []\n",
    "for line in data:\n",
    "    games.append(Game(line))\n"
   ]
  },
  {
   "cell_type": "code",
   "execution_count": 26,
   "metadata": {},
   "outputs": [
    {
     "name": "stdout",
     "output_type": "stream",
     "text": [
      "2101\n"
     ]
    }
   ],
   "source": [
    "# Check games and find sum of valid games for part 1 answer\n",
    "\n",
    "sum = 0\n",
    "reds_limit = 12\n",
    "greens_limit = 13\n",
    "blues_limit = 14\n",
    "\n",
    "for game in games:\n",
    "    if game.IsValid(reds_limit, greens_limit, blues_limit):\n",
    "        sum += game.game_id\n",
    "print(sum)"
   ]
  },
  {
   "cell_type": "code",
   "execution_count": 27,
   "metadata": {},
   "outputs": [
    {
     "name": "stdout",
     "output_type": "stream",
     "text": [
      "58269\n"
     ]
    }
   ],
   "source": [
    "# Part 2: For each game, find the minimum set of cubes that must have been present. What is the sum of the power of these sets? \n",
    "# (The power of a set of cubes is equal to the numbers of red, green, and blue cubes multiplied together.)\n",
    "\n",
    "sum = 0\n",
    "\n",
    "for game in games:\n",
    "    sum += game.reds_max * game.greens_max * game.blues_max\n",
    "print(sum)"
   ]
  }
 ],
 "metadata": {
  "kernelspec": {
   "display_name": "base",
   "language": "python",
   "name": "python3"
  },
  "language_info": {
   "codemirror_mode": {
    "name": "ipython",
    "version": 3
   },
   "file_extension": ".py",
   "mimetype": "text/x-python",
   "name": "python",
   "nbconvert_exporter": "python",
   "pygments_lexer": "ipython3",
   "version": "3.12.4"
  }
 },
 "nbformat": 4,
 "nbformat_minor": 2
}
