{
 "cells": [
  {
   "cell_type": "code",
   "execution_count": null,
   "metadata": {},
   "outputs": [],
   "source": [
    "# Import\n",
    "\n",
    "path = \"day3input.txt\"\n",
    "file = open(path, 'r')\n",
    "data = file.readlines()\n",
    "file.close()"
   ]
  },
  {
   "cell_type": "markdown",
   "metadata": {},
   "source": [
    "What is the sum of all of the part numbers in the engine schematic?\n",
    "(any number adjacent to a symbol, even diagonally, is a \"part number\" and should be included in your sum)"
   ]
  },
  {
   "cell_type": "code",
   "execution_count": null,
   "metadata": {},
   "outputs": [],
   "source": [
    "import re\n",
    "\n",
    "line_length = len(data[0])\n",
    "\n",
    "def is_part_num(line_num: int, start: int, end: int) -> bool:\n",
    "    true_start = max(start - 1, 0)\n",
    "    true_end = min(end + 1, line_length)\n",
    "    symbol_pattern = re.compile(r\".*[^\\d|.|\\n].*\")\n",
    "    #if the row above the number has a non-numeric/non-period, return true\n",
    "    if(line_num > 0):\n",
    "        if(symbol_pattern.search(data[line_num - 1][true_start:true_end])):\n",
    "            return True\n",
    "    #same for below\n",
    "    if(line_num < len(data) - 1):\n",
    "        if(symbol_pattern.search(data[line_num + 1][true_start:true_end])):\n",
    "            return True\n",
    "    #same for left/right\n",
    "    if(symbol_pattern.search(data[line_num][true_start:true_end])):\n",
    "        return True\n",
    "    return False\n",
    "\n",
    "pattern = re.compile(r'\\d+')\n",
    "part_num_sum = 0\n",
    "\n",
    "for index, line in enumerate(data):\n",
    "    matches = pattern.finditer(line)\n",
    "    for match in matches:\n",
    "        #print(index, match.group(), match.start(), match.end())\n",
    "        if is_part_num(index, match.start(), match.end()):\n",
    "            part_num_sum += int(match.group())\n",
    "\n",
    "print (part_num_sum)\n",
    "\n",
    "    "
   ]
  }
 ],
 "metadata": {
  "language_info": {
   "name": "python"
  }
 },
 "nbformat": 4,
 "nbformat_minor": 2
}
